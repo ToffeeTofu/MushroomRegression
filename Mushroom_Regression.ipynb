{
  "nbformat": 4,
  "nbformat_minor": 0,
  "metadata": {
    "colab": {
      "provenance": [],
      "authorship_tag": "ABX9TyM9IDVYhvn/aALEyMP2R2/N",
      "include_colab_link": true
    },
    "kernelspec": {
      "name": "python3",
      "display_name": "Python 3"
    },
    "language_info": {
      "name": "python"
    }
  },
  "cells": [
    {
      "cell_type": "markdown",
      "metadata": {
        "id": "view-in-github",
        "colab_type": "text"
      },
      "source": [
        "<a href=\"https://colab.research.google.com/github/ToffeeTofu/MushroomRegression/blob/main/Mushroom_Regression.ipynb\" target=\"_parent\"><img src=\"https://colab.research.google.com/assets/colab-badge.svg\" alt=\"Open In Colab\"/></a>"
      ]
    },
    {
      "cell_type": "code",
      "execution_count": null,
      "metadata": {
        "id": "b2WOCRPUPUK1"
      },
      "outputs": [],
      "source": [
        "# ===============================================\n",
        "# Clean → Encode → Classify (KNN) — Simplified\n",
        "# ===============================================\n",
        "# Dataset: Kaggle \"Mushroom Classification\"\n",
        "# Expected file: ./mushrooms.csv\n",
        "\n",
        "import os\n",
        "import numpy as np\n",
        "import pandas as pd\n",
        "import matplotlib.pyplot as plt\n",
        "\n",
        "from sklearn.model_selection import train_test_split, GridSearchCV\n",
        "from sklearn.preprocessing import StandardScaler, label_binarize\n",
        "from sklearn.impute import SimpleImputer  # used ONCE as an example\n",
        "from sklearn.neighbors import KNeighborsClassifier\n",
        "from sklearn.metrics import (\n",
        "    accuracy_score, classification_report, confusion_matrix, ConfusionMatrixDisplay,\n",
        "    roc_curve, auc\n",
        ")\n",
        "\n",
        "RANDOM_STATE = 42\n",
        "np.random.seed(RANDOM_STATE)"
      ]
    },
    {
      "cell_type": "code",
      "source": [
        "# -----------------------------\n",
        "# 0) Load data\n",
        "# -----------------------------\n",
        "csv_path = \"./mushrooms.csv\"   # TODO: place the file or change path\n",
        "if not os.path.exists(csv_path):\n",
        "    raise FileNotFoundError(f\"Could not find {csv_path} — download from Kaggle and try again.\")\n",
        "\n",
        "df = pd.read_csv(csv_path)\n",
        "print(\"Initial shape:\", df.shape)\n",
        "#Prints the top 5 rows (1 line of code)\n",
        "df.head(5)"
      ],
      "metadata": {
        "colab": {
          "base_uri": "https://localhost:8080/",
          "height": 326
        },
        "id": "BHmdyCWPP8v8",
        "outputId": "dfb203c8-24bc-4b54-d7a7-fdff2bc8d1b5"
      },
      "execution_count": null,
      "outputs": [
        {
          "output_type": "stream",
          "name": "stdout",
          "text": [
            "Initial shape: (8124, 23)\n"
          ]
        },
        {
          "output_type": "execute_result",
          "data": {
            "text/plain": [
              "  class cap-shape cap-surface cap-color bruises odor gill-attachment  \\\n",
              "0     p         x           s         n       t    p               f   \n",
              "1     e         x           s         y       t    a               f   \n",
              "2     e         b           s         w       t    l               f   \n",
              "3     p         x           y         w       t    p               f   \n",
              "4     e         x           s         g       f    n               f   \n",
              "\n",
              "  gill-spacing gill-size gill-color  ... stalk-surface-below-ring  \\\n",
              "0            c         n          k  ...                        s   \n",
              "1            c         b          k  ...                        s   \n",
              "2            c         b          n  ...                        s   \n",
              "3            c         n          n  ...                        s   \n",
              "4            w         b          k  ...                        s   \n",
              "\n",
              "  stalk-color-above-ring stalk-color-below-ring veil-type veil-color  \\\n",
              "0                      w                      w         p          w   \n",
              "1                      w                      w         p          w   \n",
              "2                      w                      w         p          w   \n",
              "3                      w                      w         p          w   \n",
              "4                      w                      w         p          w   \n",
              "\n",
              "  ring-number ring-type spore-print-color population habitat  \n",
              "0           o         p                 k          s       u  \n",
              "1           o         p                 n          n       g  \n",
              "2           o         p                 n          n       m  \n",
              "3           o         p                 k          s       u  \n",
              "4           o         e                 n          a       g  \n",
              "\n",
              "[5 rows x 23 columns]"
            ],
            "text/html": [
              "\n",
              "  <div id=\"df-c2394525-8447-41bb-8d62-278b17a99258\" class=\"colab-df-container\">\n",
              "    <div>\n",
              "<style scoped>\n",
              "    .dataframe tbody tr th:only-of-type {\n",
              "        vertical-align: middle;\n",
              "    }\n",
              "\n",
              "    .dataframe tbody tr th {\n",
              "        vertical-align: top;\n",
              "    }\n",
              "\n",
              "    .dataframe thead th {\n",
              "        text-align: right;\n",
              "    }\n",
              "</style>\n",
              "<table border=\"1\" class=\"dataframe\">\n",
              "  <thead>\n",
              "    <tr style=\"text-align: right;\">\n",
              "      <th></th>\n",
              "      <th>class</th>\n",
              "      <th>cap-shape</th>\n",
              "      <th>cap-surface</th>\n",
              "      <th>cap-color</th>\n",
              "      <th>bruises</th>\n",
              "      <th>odor</th>\n",
              "      <th>gill-attachment</th>\n",
              "      <th>gill-spacing</th>\n",
              "      <th>gill-size</th>\n",
              "      <th>gill-color</th>\n",
              "      <th>...</th>\n",
              "      <th>stalk-surface-below-ring</th>\n",
              "      <th>stalk-color-above-ring</th>\n",
              "      <th>stalk-color-below-ring</th>\n",
              "      <th>veil-type</th>\n",
              "      <th>veil-color</th>\n",
              "      <th>ring-number</th>\n",
              "      <th>ring-type</th>\n",
              "      <th>spore-print-color</th>\n",
              "      <th>population</th>\n",
              "      <th>habitat</th>\n",
              "    </tr>\n",
              "  </thead>\n",
              "  <tbody>\n",
              "    <tr>\n",
              "      <th>0</th>\n",
              "      <td>p</td>\n",
              "      <td>x</td>\n",
              "      <td>s</td>\n",
              "      <td>n</td>\n",
              "      <td>t</td>\n",
              "      <td>p</td>\n",
              "      <td>f</td>\n",
              "      <td>c</td>\n",
              "      <td>n</td>\n",
              "      <td>k</td>\n",
              "      <td>...</td>\n",
              "      <td>s</td>\n",
              "      <td>w</td>\n",
              "      <td>w</td>\n",
              "      <td>p</td>\n",
              "      <td>w</td>\n",
              "      <td>o</td>\n",
              "      <td>p</td>\n",
              "      <td>k</td>\n",
              "      <td>s</td>\n",
              "      <td>u</td>\n",
              "    </tr>\n",
              "    <tr>\n",
              "      <th>1</th>\n",
              "      <td>e</td>\n",
              "      <td>x</td>\n",
              "      <td>s</td>\n",
              "      <td>y</td>\n",
              "      <td>t</td>\n",
              "      <td>a</td>\n",
              "      <td>f</td>\n",
              "      <td>c</td>\n",
              "      <td>b</td>\n",
              "      <td>k</td>\n",
              "      <td>...</td>\n",
              "      <td>s</td>\n",
              "      <td>w</td>\n",
              "      <td>w</td>\n",
              "      <td>p</td>\n",
              "      <td>w</td>\n",
              "      <td>o</td>\n",
              "      <td>p</td>\n",
              "      <td>n</td>\n",
              "      <td>n</td>\n",
              "      <td>g</td>\n",
              "    </tr>\n",
              "    <tr>\n",
              "      <th>2</th>\n",
              "      <td>e</td>\n",
              "      <td>b</td>\n",
              "      <td>s</td>\n",
              "      <td>w</td>\n",
              "      <td>t</td>\n",
              "      <td>l</td>\n",
              "      <td>f</td>\n",
              "      <td>c</td>\n",
              "      <td>b</td>\n",
              "      <td>n</td>\n",
              "      <td>...</td>\n",
              "      <td>s</td>\n",
              "      <td>w</td>\n",
              "      <td>w</td>\n",
              "      <td>p</td>\n",
              "      <td>w</td>\n",
              "      <td>o</td>\n",
              "      <td>p</td>\n",
              "      <td>n</td>\n",
              "      <td>n</td>\n",
              "      <td>m</td>\n",
              "    </tr>\n",
              "    <tr>\n",
              "      <th>3</th>\n",
              "      <td>p</td>\n",
              "      <td>x</td>\n",
              "      <td>y</td>\n",
              "      <td>w</td>\n",
              "      <td>t</td>\n",
              "      <td>p</td>\n",
              "      <td>f</td>\n",
              "      <td>c</td>\n",
              "      <td>n</td>\n",
              "      <td>n</td>\n",
              "      <td>...</td>\n",
              "      <td>s</td>\n",
              "      <td>w</td>\n",
              "      <td>w</td>\n",
              "      <td>p</td>\n",
              "      <td>w</td>\n",
              "      <td>o</td>\n",
              "      <td>p</td>\n",
              "      <td>k</td>\n",
              "      <td>s</td>\n",
              "      <td>u</td>\n",
              "    </tr>\n",
              "    <tr>\n",
              "      <th>4</th>\n",
              "      <td>e</td>\n",
              "      <td>x</td>\n",
              "      <td>s</td>\n",
              "      <td>g</td>\n",
              "      <td>f</td>\n",
              "      <td>n</td>\n",
              "      <td>f</td>\n",
              "      <td>w</td>\n",
              "      <td>b</td>\n",
              "      <td>k</td>\n",
              "      <td>...</td>\n",
              "      <td>s</td>\n",
              "      <td>w</td>\n",
              "      <td>w</td>\n",
              "      <td>p</td>\n",
              "      <td>w</td>\n",
              "      <td>o</td>\n",
              "      <td>e</td>\n",
              "      <td>n</td>\n",
              "      <td>a</td>\n",
              "      <td>g</td>\n",
              "    </tr>\n",
              "  </tbody>\n",
              "</table>\n",
              "<p>5 rows × 23 columns</p>\n",
              "</div>\n",
              "    <div class=\"colab-df-buttons\">\n",
              "\n",
              "  <div class=\"colab-df-container\">\n",
              "    <button class=\"colab-df-convert\" onclick=\"convertToInteractive('df-c2394525-8447-41bb-8d62-278b17a99258')\"\n",
              "            title=\"Convert this dataframe to an interactive table.\"\n",
              "            style=\"display:none;\">\n",
              "\n",
              "  <svg xmlns=\"http://www.w3.org/2000/svg\" height=\"24px\" viewBox=\"0 -960 960 960\">\n",
              "    <path d=\"M120-120v-720h720v720H120Zm60-500h600v-160H180v160Zm220 220h160v-160H400v160Zm0 220h160v-160H400v160ZM180-400h160v-160H180v160Zm440 0h160v-160H620v160ZM180-180h160v-160H180v160Zm440 0h160v-160H620v160Z\"/>\n",
              "  </svg>\n",
              "    </button>\n",
              "\n",
              "  <style>\n",
              "    .colab-df-container {\n",
              "      display:flex;\n",
              "      gap: 12px;\n",
              "    }\n",
              "\n",
              "    .colab-df-convert {\n",
              "      background-color: #E8F0FE;\n",
              "      border: none;\n",
              "      border-radius: 50%;\n",
              "      cursor: pointer;\n",
              "      display: none;\n",
              "      fill: #1967D2;\n",
              "      height: 32px;\n",
              "      padding: 0 0 0 0;\n",
              "      width: 32px;\n",
              "    }\n",
              "\n",
              "    .colab-df-convert:hover {\n",
              "      background-color: #E2EBFA;\n",
              "      box-shadow: 0px 1px 2px rgba(60, 64, 67, 0.3), 0px 1px 3px 1px rgba(60, 64, 67, 0.15);\n",
              "      fill: #174EA6;\n",
              "    }\n",
              "\n",
              "    .colab-df-buttons div {\n",
              "      margin-bottom: 4px;\n",
              "    }\n",
              "\n",
              "    [theme=dark] .colab-df-convert {\n",
              "      background-color: #3B4455;\n",
              "      fill: #D2E3FC;\n",
              "    }\n",
              "\n",
              "    [theme=dark] .colab-df-convert:hover {\n",
              "      background-color: #434B5C;\n",
              "      box-shadow: 0px 1px 3px 1px rgba(0, 0, 0, 0.15);\n",
              "      filter: drop-shadow(0px 1px 2px rgba(0, 0, 0, 0.3));\n",
              "      fill: #FFFFFF;\n",
              "    }\n",
              "  </style>\n",
              "\n",
              "    <script>\n",
              "      const buttonEl =\n",
              "        document.querySelector('#df-c2394525-8447-41bb-8d62-278b17a99258 button.colab-df-convert');\n",
              "      buttonEl.style.display =\n",
              "        google.colab.kernel.accessAllowed ? 'block' : 'none';\n",
              "\n",
              "      async function convertToInteractive(key) {\n",
              "        const element = document.querySelector('#df-c2394525-8447-41bb-8d62-278b17a99258');\n",
              "        const dataTable =\n",
              "          await google.colab.kernel.invokeFunction('convertToInteractive',\n",
              "                                                    [key], {});\n",
              "        if (!dataTable) return;\n",
              "\n",
              "        const docLinkHtml = 'Like what you see? Visit the ' +\n",
              "          '<a target=\"_blank\" href=https://colab.research.google.com/notebooks/data_table.ipynb>data table notebook</a>'\n",
              "          + ' to learn more about interactive tables.';\n",
              "        element.innerHTML = '';\n",
              "        dataTable['output_type'] = 'display_data';\n",
              "        await google.colab.output.renderOutput(dataTable, element);\n",
              "        const docLink = document.createElement('div');\n",
              "        docLink.innerHTML = docLinkHtml;\n",
              "        element.appendChild(docLink);\n",
              "      }\n",
              "    </script>\n",
              "  </div>\n",
              "\n",
              "\n",
              "    <div id=\"df-d0660c71-38c7-4a7c-8b9c-4bf4e8fb19c3\">\n",
              "      <button class=\"colab-df-quickchart\" onclick=\"quickchart('df-d0660c71-38c7-4a7c-8b9c-4bf4e8fb19c3')\"\n",
              "                title=\"Suggest charts\"\n",
              "                style=\"display:none;\">\n",
              "\n",
              "<svg xmlns=\"http://www.w3.org/2000/svg\" height=\"24px\"viewBox=\"0 0 24 24\"\n",
              "     width=\"24px\">\n",
              "    <g>\n",
              "        <path d=\"M19 3H5c-1.1 0-2 .9-2 2v14c0 1.1.9 2 2 2h14c1.1 0 2-.9 2-2V5c0-1.1-.9-2-2-2zM9 17H7v-7h2v7zm4 0h-2V7h2v10zm4 0h-2v-4h2v4z\"/>\n",
              "    </g>\n",
              "</svg>\n",
              "      </button>\n",
              "\n",
              "<style>\n",
              "  .colab-df-quickchart {\n",
              "      --bg-color: #E8F0FE;\n",
              "      --fill-color: #1967D2;\n",
              "      --hover-bg-color: #E2EBFA;\n",
              "      --hover-fill-color: #174EA6;\n",
              "      --disabled-fill-color: #AAA;\n",
              "      --disabled-bg-color: #DDD;\n",
              "  }\n",
              "\n",
              "  [theme=dark] .colab-df-quickchart {\n",
              "      --bg-color: #3B4455;\n",
              "      --fill-color: #D2E3FC;\n",
              "      --hover-bg-color: #434B5C;\n",
              "      --hover-fill-color: #FFFFFF;\n",
              "      --disabled-bg-color: #3B4455;\n",
              "      --disabled-fill-color: #666;\n",
              "  }\n",
              "\n",
              "  .colab-df-quickchart {\n",
              "    background-color: var(--bg-color);\n",
              "    border: none;\n",
              "    border-radius: 50%;\n",
              "    cursor: pointer;\n",
              "    display: none;\n",
              "    fill: var(--fill-color);\n",
              "    height: 32px;\n",
              "    padding: 0;\n",
              "    width: 32px;\n",
              "  }\n",
              "\n",
              "  .colab-df-quickchart:hover {\n",
              "    background-color: var(--hover-bg-color);\n",
              "    box-shadow: 0 1px 2px rgba(60, 64, 67, 0.3), 0 1px 3px 1px rgba(60, 64, 67, 0.15);\n",
              "    fill: var(--button-hover-fill-color);\n",
              "  }\n",
              "\n",
              "  .colab-df-quickchart-complete:disabled,\n",
              "  .colab-df-quickchart-complete:disabled:hover {\n",
              "    background-color: var(--disabled-bg-color);\n",
              "    fill: var(--disabled-fill-color);\n",
              "    box-shadow: none;\n",
              "  }\n",
              "\n",
              "  .colab-df-spinner {\n",
              "    border: 2px solid var(--fill-color);\n",
              "    border-color: transparent;\n",
              "    border-bottom-color: var(--fill-color);\n",
              "    animation:\n",
              "      spin 1s steps(1) infinite;\n",
              "  }\n",
              "\n",
              "  @keyframes spin {\n",
              "    0% {\n",
              "      border-color: transparent;\n",
              "      border-bottom-color: var(--fill-color);\n",
              "      border-left-color: var(--fill-color);\n",
              "    }\n",
              "    20% {\n",
              "      border-color: transparent;\n",
              "      border-left-color: var(--fill-color);\n",
              "      border-top-color: var(--fill-color);\n",
              "    }\n",
              "    30% {\n",
              "      border-color: transparent;\n",
              "      border-left-color: var(--fill-color);\n",
              "      border-top-color: var(--fill-color);\n",
              "      border-right-color: var(--fill-color);\n",
              "    }\n",
              "    40% {\n",
              "      border-color: transparent;\n",
              "      border-right-color: var(--fill-color);\n",
              "      border-top-color: var(--fill-color);\n",
              "    }\n",
              "    60% {\n",
              "      border-color: transparent;\n",
              "      border-right-color: var(--fill-color);\n",
              "    }\n",
              "    80% {\n",
              "      border-color: transparent;\n",
              "      border-right-color: var(--fill-color);\n",
              "      border-bottom-color: var(--fill-color);\n",
              "    }\n",
              "    90% {\n",
              "      border-color: transparent;\n",
              "      border-bottom-color: var(--fill-color);\n",
              "    }\n",
              "  }\n",
              "</style>\n",
              "\n",
              "      <script>\n",
              "        async function quickchart(key) {\n",
              "          const quickchartButtonEl =\n",
              "            document.querySelector('#' + key + ' button');\n",
              "          quickchartButtonEl.disabled = true;  // To prevent multiple clicks.\n",
              "          quickchartButtonEl.classList.add('colab-df-spinner');\n",
              "          try {\n",
              "            const charts = await google.colab.kernel.invokeFunction(\n",
              "                'suggestCharts', [key], {});\n",
              "          } catch (error) {\n",
              "            console.error('Error during call to suggestCharts:', error);\n",
              "          }\n",
              "          quickchartButtonEl.classList.remove('colab-df-spinner');\n",
              "          quickchartButtonEl.classList.add('colab-df-quickchart-complete');\n",
              "        }\n",
              "        (() => {\n",
              "          let quickchartButtonEl =\n",
              "            document.querySelector('#df-d0660c71-38c7-4a7c-8b9c-4bf4e8fb19c3 button');\n",
              "          quickchartButtonEl.style.display =\n",
              "            google.colab.kernel.accessAllowed ? 'block' : 'none';\n",
              "        })();\n",
              "      </script>\n",
              "    </div>\n",
              "\n",
              "    </div>\n",
              "  </div>\n"
            ],
            "application/vnd.google.colaboratory.intrinsic+json": {
              "type": "dataframe",
              "variable_name": "df"
            }
          },
          "metadata": {},
          "execution_count": 10
        }
      ]
    },
    {
      "cell_type": "code",
      "source": [
        "# -----------------------------\n",
        "# 1) Basic cleaning (duplicates, empty rows)\n",
        "# -----------------------------\n",
        "before = df.shape[0]\n",
        "\n",
        "# Removes duplicates\n",
        "df.drop_duplicates(inplace=True)\n",
        "\n",
        "print(\"Removed duplicates:\", before - df.shape[0])\n",
        "\n",
        "before = df.shape[0]\n",
        "# Drop fully empty rows\n",
        "# how = 'all' means only drops rows where all values are Na\n",
        "df.dropna(how='all', inplace=True)\n",
        "\n",
        "print(\"Dropped fully empty rows:\", before - df.shape[0])\n",
        "\n",
        "print(\"\\nMissing values per column (top 10):\")\n",
        "# Display the top 10 columns with the most missing values in descending order.\n",
        "print(df.isna().sum().sort_values(ascending=False).head(10))"
      ],
      "metadata": {
        "colab": {
          "base_uri": "https://localhost:8080/"
        },
        "id": "frWsDMpEP_Sa",
        "outputId": "87340e0d-1a4b-4ba2-df3f-91de318acb32"
      },
      "execution_count": null,
      "outputs": [
        {
          "output_type": "stream",
          "name": "stdout",
          "text": [
            "Removed duplicates: 0\n",
            "Dropped fully empty rows: 0\n",
            "\n",
            "Missing values per column (top 10):\n",
            "class              0\n",
            "cap-shape          0\n",
            "cap-surface        0\n",
            "cap-color          0\n",
            "bruises            0\n",
            "odor               0\n",
            "gill-attachment    0\n",
            "gill-spacing       0\n",
            "gill-size          0\n",
            "gill-color         0\n",
            "dtype: int64\n"
          ]
        }
      ]
    },
    {
      "cell_type": "code",
      "source": [
        "# -----------------------------\n",
        "# 2) Target & split\n",
        "# -----------------------------\n",
        "TARGET_COL = \"class\"  # TODO: change if your label column differs\n",
        "if TARGET_COL not in df.columns:\n",
        "    raise ValueError(\"Update TARGET_COL to match your dataset's label column.\")\n",
        "\n",
        "# Drops the target column \"class\"\n",
        "X = df.drop(columns=[TARGET_COL])\n",
        "# Saves class in y\n",
        "y = df[TARGET_COL]\n",
        "\n",
        "X_train, X_test, y_train, y_test = train_test_split(\n",
        "    X, y, test_size=0.20, random_state=RANDOM_STATE, stratify=y\n",
        ")\n",
        "print(\"\\nTrain/Test shapes:\", X_train.shape, X_test.shape)\n",
        "\n",
        "# Detect types BEFORE imputation/encoding\n",
        "# Finding all columns that have numbers and store in a list\n",
        "orig_numeric_cols = X_train.select_dtypes(include=['number']).columns.tolist()\n",
        "# Finding all columns that do not have numbers and store in a list\n",
        "orig_categorical_cols = X_train.select_dtypes(exclude=['number']).columns.tolist()\n",
        "\n",
        "# Print the columns\n",
        "print(\"Original numeric cols:\", orig_numeric_cols if orig_numeric_cols else \"None\")\n",
        "# Prints the first\n",
        "print(\"Original categorical cols:\", orig_categorical_cols[:10])"
      ],
      "metadata": {
        "colab": {
          "base_uri": "https://localhost:8080/"
        },
        "id": "vDsPCcfOQFgs",
        "outputId": "151b4455-9066-4a3d-9b62-9590e38a4ca6"
      },
      "execution_count": null,
      "outputs": [
        {
          "output_type": "stream",
          "name": "stdout",
          "text": [
            "\n",
            "Train/Test shapes: (6499, 22) (1625, 22)\n",
            "Original numeric cols: None\n",
            "Original categorical cols: ['cap-shape', 'cap-surface', 'cap-color', 'bruises', 'odor', 'gill-attachment', 'gill-spacing', 'gill-size', 'gill-color', 'stalk-shape']\n"
          ]
        }
      ]
    },
    {
      "cell_type": "code",
      "source": [
        "# --------------------------------------------\n",
        "# 3) IMPUTATION (MANUAL) + one sklearn example\n",
        "# --------------------------------------------\n",
        "# Manual imputation rules:\n",
        "#  - Numeric: fill with TRAIN median\n",
        "#  - Categorical: fill with TRAIN mode\n",
        "# NOTE: We compute imputation values on TRAIN only, then apply to both TRAIN & TEST.\n",
        "\n",
        "X_train_imp = X_train.copy()\n",
        "X_test_imp  = X_test.copy()\n",
        "\n",
        "# a) Numeric → manual median\n",
        "# TODO: For each of the columns, fill the empty values with the median of the column (4 lines of code)\n",
        "# TODO: Do this for the training and test data separately.\n",
        "X_train_imp[orig_numeric_cols] = X_train[orig_numeric_cols].fillna(X_train[orig_numeric_cols].median())\n",
        "X_test_imp[orig_numeric_cols] = X_train[orig_numeric_cols].fillna(X_train[orig_numeric_cols].median())\n",
        "\n",
        "# b) Categorical → manual mode\n",
        "# TODO: For each of the columns, fill the empty values with the median of the column (4-5 lines of code)\n",
        "# TODO: Do this for the training and test data separately.\n",
        "X_train_imp[orig_categorical_cols] = X_train[orig_categorical_cols].fillna(X_train[orig_categorical_cols].mode())\n",
        "X_test_imp[orig_categorical_cols] = X_train[orig_categorical_cols].fillna(X_train[orig_categorical_cols].mode())\n",
        "\n",
        "# c) EXAMPLE using sklearn SimpleImputer on a SINGLE column (categorical)\n",
        "IMPUTE_EXAMPLE_COL = \"odor\"\n",
        "# Check if a column exists\n",
        "if IMPUTE_EXAMPLE_COL in X_train_imp.columns:\n",
        "    cat_imp = SimpleImputer(strategy=\"most_frequent\")\n",
        "    X_train_imp[IMPUTE_EXAMPLE_COL] = cat_imp.fit_transform(X_train_imp[[IMPUTE_EXAMPLE_COL]]).ravel()\n",
        "    X_test_imp[IMPUTE_EXAMPLE_COL]  = cat_imp.transform(X_test_imp[[IMPUTE_EXAMPLE_COL]]).ravel\n",
        "    print(f\"\\nUsed sklearn SimpleImputer on column: {IMPUTE_EXAMPLE_COL}\")\n",
        "else:\n",
        "    print(f\"\\n[Note] Example imputer column '{IMPUTE_EXAMPLE_COL}' not found. Skipping sklearn example.\")\n"
      ],
      "metadata": {
        "colab": {
          "base_uri": "https://localhost:8080/"
        },
        "id": "YKRXlYRfQLBH",
        "outputId": "e1f4def2-6dab-4738-ae7a-7eaf00f1e27b"
      },
      "execution_count": null,
      "outputs": [
        {
          "output_type": "stream",
          "name": "stdout",
          "text": [
            "\n",
            "Used sklearn SimpleImputer on column: odor\n"
          ]
        }
      ]
    },
    {
      "cell_type": "code",
      "source": [
        "# --------------------------------------------\n",
        "# 4) ENCODING\n",
        "#    - EXPLICIT One-Hot Encoding on ONE chosen column\n",
        "#    - Then get_dummies for the remaining categoricals\n",
        "# --------------------------------------------\n",
        "# Choose the column for explicit OHE:\n",
        "EXPLICIT_OHE_COL = \"odor\"  # TODO: change if needed\n",
        "\n",
        "X_train_enc = X_train_imp.copy()\n",
        "X_test_enc  = X_test_imp.copy()\n",
        "\n",
        "if EXPLICIT_OHE_COL in X_train_enc.columns:\n",
        "    # EXPLICIT OHE on this ONE column — fit on TRAIN only and TEST only separately (2 lines of code)\n",
        "    train_ohe = pd.get_dummies(X_train_enc[EXPLICIT_OHE_COL], prefix=EXPLICIT_OHE_COL)\n",
        "    test_ohe = pd.get_dummies(X_test_enc[EXPLICIT_OHE_COL], prefix=EXPLICIT_OHE_COL)\n",
        "    # Aligns test OHE columns to train columns\n",
        "    test_ohe = test_ohe.reindex(columns=train_ohe.columns, fill_value=0)\n",
        "\n",
        "    # Drop original column and concat OHE columns\n",
        "    X_train_enc = pd.concat([X_train_enc.drop(columns=[EXPLICIT_OHE_COL]), train_ohe], axis=1)\n",
        "    X_test_enc  = pd.concat([X_test_enc.drop(columns=[EXPLICIT_OHE_COL]),  test_ohe], axis=1)\n",
        "\n",
        "    print(f\"\\nExplicit OHE applied to column: {EXPLICIT_OHE_COL}\")\n",
        "else:\n",
        "    print(f\"\\n[Note] Explicit OHE column '{EXPLICIT_OHE_COL}' not found. Skipping explicit OHE step.\")\n",
        "\n",
        "# TODO: Identify remaining categorical columns (post explicit OHE drop) in the TRAINING data set only (1 line of code)\n",
        "new_categorical_cols = X_train_enc.select_dtypes(exclude=['number']).columns.tolist()\n",
        "\n",
        "# TODO: Apply get_dummies to the remaining categoricals (fit on TRAIN, align TEST) (1 lines of code)\n",
        "X_train_enc = pd.get_dummies(X_train_enc, columns=new_categorical_cols)\n",
        "X_test_enc = pd.get_dummies(X_test_enc, columns=new_categorical_cols)\n",
        "\n",
        "# Align test columns to train columns (VERY IMPORTANT)\n",
        "X_test_enc = X_test_enc.reindex(columns=X_train_enc.columns, fill_value=0)\n",
        "\n",
        "print(\"Encoded train shape:\", X_train_enc.shape)\n",
        "print(\"Encoded test shape:\", X_test_enc.shape)"
      ],
      "metadata": {
        "colab": {
          "base_uri": "https://localhost:8080/"
        },
        "id": "2MixU4KtQL2r",
        "outputId": "a492cb6f-680a-451e-9f95-bc0c88d9b2a3"
      },
      "execution_count": null,
      "outputs": [
        {
          "output_type": "stream",
          "name": "stdout",
          "text": [
            "\n",
            "Explicit OHE applied to column: odor\n",
            "Encoded train shape: (6499, 126)\n",
            "Encoded test shape: (1625, 126)\n"
          ]
        }
      ]
    },
    {
      "cell_type": "code",
      "source": [
        "# --------------------------------------------\n",
        "# 5) NORMALIZE numeric columns (if any)\n",
        "#    (Scale ONLY the original numeric columns; don't scale one-hot columns)\n",
        "# --------------------------------------------\n",
        "# TODO: Use the Standard Scaler to scale the numeric values (1 line of code)\n",
        "\n",
        "numeric_cols_to_scale = [c for c in orig_numeric_cols if c in X_train_enc.columns]\n",
        "scaler = StandardScaler()\n",
        "\n",
        "# TODO: Fit the scaler and scale the train and test data separately. (3 lines of code)\n",
        "if numeric_cols_to_scale:\n",
        "  scaler.fit(X_train_enc[numeric_cols_to_scale])\n",
        "  X_train_enc[numeric_cols_to_scale] = scaler.fit_transform(X_train_enc[numeric_cols_to_scale])\n",
        "  X_test_enc[numeric_cols_to_scale] = scaler.transform(X_test_enc[numeric_cols_to_scale])\n",
        "# TODO: Print the names of the columns scaled if any (4 lines of code at max)\n",
        "if numeric_cols_to_scale:\n",
        "  print(\"Scaled numeric columns:\")\n",
        "  for col in numeric_cols_to_scale:\n",
        "    print(f\"- {col}\")\n",
        "else:\n",
        "  print(\"No numeric columns found to scale.\")"
      ],
      "metadata": {
        "id": "SjjAn6ZdQPcx",
        "colab": {
          "base_uri": "https://localhost:8080/"
        },
        "outputId": "3b4bbf61-4f59-4345-95e3-2f9815d6e82e"
      },
      "execution_count": null,
      "outputs": [
        {
          "output_type": "stream",
          "name": "stdout",
          "text": [
            "No numeric columns found to scale.\n"
          ]
        }
      ]
    },
    {
      "cell_type": "code",
      "source": [
        "# --------------------------------------------\n",
        "# 6) KNN + Grid Search\n",
        "# --------------------------------------------\n",
        "# Create KNN Classifier model\n",
        "model = KNeighborsClassifier()\n",
        "# Uses Grid Search to test number of neighbors in the set [3, 5, 7, 9, 11, 15, 21]\n",
        "# and weights [uniform, distance] and metric [euclidean, manhattan]\n",
        "parameters = {'n_neighbors': [3, 5, 7, 9, 11, 15, 21],\"weights\":[\"uniform\",\"distance\"],\"p\":[1,2]}\n",
        "grid_search = GridSearchCV(model, param_grid = parameters, scoring=\"accuracy\")\n",
        "grid_search.fit(X_train_enc, y_train)\n",
        "\n",
        "# Find and print the best_estimator_ and print the best parameters\n",
        "print(\"Best KNN parameters:\", grid_search.best_estimator_)\n",
        "print(\"Best parameters:\", grid_search.best_params_)\n",
        "print(\"Best CV scores: \", grid_search.best_score_)\n"
      ],
      "metadata": {
        "id": "qG5tt_6FQRhn",
        "colab": {
          "base_uri": "https://localhost:8080/"
        },
        "outputId": "13d41acf-19c6-4550-cd58-2c5ce699cb7b"
      },
      "execution_count": null,
      "outputs": [
        {
          "output_type": "stream",
          "name": "stdout",
          "text": [
            "Best KNN parameters: KNeighborsClassifier(n_neighbors=3, p=1, weights='distance')\n",
            "Best parameters: {'n_neighbors': 3, 'p': 1, 'weights': 'distance'}\n",
            "Best CV scores:  1.0\n"
          ]
        }
      ]
    },
    {
      "cell_type": "code",
      "source": [
        "# --------------------------------------------\n",
        "# 7) Evaluate on held-out TEST\n",
        "# --------------------------------------------\n",
        "# TODO: Use KNN to make predictions on the test dataset (1 line of code)\n",
        "y_pred = grid_search.best_estimator_.predict(X_test_enc)\n",
        "\n",
        "test_acc = accuracy_score(y_test, y_pred)\n",
        "print(\"\\nTest accuracy: {:.4f}\".format(test_acc))\n",
        "print(\"\\nClassification report:\\n\", classification_report(y_test, y_pred))\n",
        "\n",
        "# Confusion Matrix\n",
        "cm = confusion_matrix(y_test, y_pred, labels=np.unique(y))\n",
        "disp = ConfusionMatrixDisplay(confusion_matrix=cm, display_labels=np.unique(y))\n",
        "plt.figure()\n",
        "disp.plot(values_format=\"d\")\n",
        "plt.title(\"Confusion Matrix (Test)\")\n",
        "plt.tight_layout()\n",
        "plt.show()"
      ],
      "metadata": {
        "id": "IGhNOA9iQUr_",
        "colab": {
          "base_uri": "https://localhost:8080/",
          "height": 872
        },
        "outputId": "88a9a580-dd93-432b-dda6-b3f50ab42b3e"
      },
      "execution_count": null,
      "outputs": [
        {
          "output_type": "stream",
          "name": "stdout",
          "text": [
            "\n",
            "Test accuracy: 0.4818\n",
            "\n",
            "Classification report:\n",
            "               precision    recall  f1-score   support\n",
            "\n",
            "           e       0.00      0.00      0.00       842\n",
            "           p       0.48      1.00      0.65       783\n",
            "\n",
            "    accuracy                           0.48      1625\n",
            "   macro avg       0.24      0.50      0.33      1625\n",
            "weighted avg       0.23      0.48      0.31      1625\n",
            "\n"
          ]
        },
        {
          "output_type": "stream",
          "name": "stderr",
          "text": [
            "/usr/local/lib/python3.12/dist-packages/sklearn/metrics/_classification.py:1565: UndefinedMetricWarning: Precision is ill-defined and being set to 0.0 in labels with no predicted samples. Use `zero_division` parameter to control this behavior.\n",
            "  _warn_prf(average, modifier, f\"{metric.capitalize()} is\", len(result))\n",
            "/usr/local/lib/python3.12/dist-packages/sklearn/metrics/_classification.py:1565: UndefinedMetricWarning: Precision is ill-defined and being set to 0.0 in labels with no predicted samples. Use `zero_division` parameter to control this behavior.\n",
            "  _warn_prf(average, modifier, f\"{metric.capitalize()} is\", len(result))\n",
            "/usr/local/lib/python3.12/dist-packages/sklearn/metrics/_classification.py:1565: UndefinedMetricWarning: Precision is ill-defined and being set to 0.0 in labels with no predicted samples. Use `zero_division` parameter to control this behavior.\n",
            "  _warn_prf(average, modifier, f\"{metric.capitalize()} is\", len(result))\n"
          ]
        },
        {
          "output_type": "display_data",
          "data": {
            "text/plain": [
              "<Figure size 640x480 with 0 Axes>"
            ]
          },
          "metadata": {}
        },
        {
          "output_type": "display_data",
          "data": {
            "text/plain": [
              "<Figure size 640x480 with 2 Axes>"
            ],
            "image/png": "[encoded data removed]"
          },
          "metadata": {}
        }
      ]
    },
    {
      "cell_type": "code",
      "source": [
        "# --------------------------------------------\n",
        "# 8) Validation curve (CV accuracy vs k)\n",
        "# --------------------------------------------\n",
        "cvres = pd.DataFrame(grid_search.cv_results_)\n",
        "plotdf = cvres[[\"param_n_neighbors\", \"param_weights\", \"param_p\", \"mean_test_score\"]].rename(\n",
        "    columns={\"param_n_neighbors\":\"k\", \"param_weights\":\"weights\", \"param_p\":\"p\"}\n",
        ")\n",
        "\n",
        "plt.figure()\n",
        "for (w, pval), sub in plotdf.groupby([\"weights\", \"p\"]):\n",
        "    sub = sub.sort_values(\"k\")\n",
        "    plt.plot(sub[\"k\"], sub[\"mean_test_score\"], marker=\"o\", label=f\"weights={w}, p={pval}\")\n",
        "plt.xlabel(\"k (n_neighbors)\")\n",
        "plt.ylabel(\"Mean CV Accuracy\")\n",
        "plt.title(\"CV Accuracy vs k (by weights & p)\")\n",
        "plt.legend()\n",
        "plt.grid(True, alpha=0.3)\n",
        "plt.tight_layout()\n",
        "plt.show()"
      ],
      "metadata": {
        "id": "uTvmkt6VQXz0",
        "colab": {
          "base_uri": "https://localhost:8080/",
          "height": 487
        },
        "outputId": "a8c0f5d7-e417-4b5f-8e18-beff1af7dfcd"
      },
      "execution_count": null,
      "outputs": [
        {
          "output_type": "display_data",
          "data": {
            "text/plain": [
              "<Figure size 640x480 with 1 Axes>"
            ],
            "image/png": "[encoded data removed]"
          },
          "metadata": {}
        }
      ]
    },
    {
      "cell_type": "code",
      "source": [
        "# --------------------------------------------\n",
        "# 9) ROC curve (binary; micro-average if multiclass)\n",
        "# --------------------------------------------\n",
        "if hasattr(best_knn, \"predict_proba\"):\n",
        "    classes_ = np.unique(y_train)\n",
        "    y_test_enc_int = pd.Categorical(y_test, categories=classes_).codes\n",
        "    proba = best_knn.predict_proba(X_test_enc)\n",
        "\n",
        "    if len(classes_) == 2:\n",
        "        fpr, tpr, _ = roc_curve(y_test_enc_int, proba[:, 1])\n",
        "        roc_auc = auc(fpr, tpr)\n",
        "        plt.figure()\n",
        "        plt.plot(fpr, tpr, lw=2, label=f\"AUC = {roc_auc:.3f}\")\n",
        "        plt.plot([0, 1], [0, 1], lw=1, linestyle=\"--\")\n",
        "        plt.xlabel(\"False Positive Rate\")\n",
        "        plt.ylabel(\"True Positive Rate\")\n",
        "        plt.title(\"ROC Curve (Test)\")\n",
        "        plt.legend(loc=\"lower right\")\n",
        "        plt.tight_layout()\n",
        "        plt.show()\n",
        "    else:\n",
        "        y_bin = label_binarize(y_test_enc_int, classes=range(len(classes_)))\n",
        "        fpr, tpr, _ = roc_curve(y_bin.ravel(), proba.ravel())\n",
        "        roc_auc = auc(fpr, tpr)\n",
        "        plt.figure()\n",
        "        plt.plot(fpr, tpr, lw=2, label=f\"Micro-average AUC = {roc_auc:.3f}\")\n",
        "        plt.plot([0, 1], [0, 1], lw=1, linestyle=\"--\")\n",
        "        plt.xlabel(\"False Positive Rate\")\n",
        "        plt.ylabel(\"True Positive Rate\")\n",
        "        plt.title(\"ROC Curve (Micro-average)\")\n",
        "        plt.legend(loc=\"lower right\")\n",
        "        plt.tight_layout()\n",
        "        plt.show()\n"
      ],
      "metadata": {
        "id": "yGxF5GMJQZ9n",
        "colab": {
          "base_uri": "https://localhost:8080/",
          "height": 487
        },
        "outputId": "a4414fd4-e8c0-4d78-c710-1d9b28f9e86e"
      },
      "execution_count": null,
      "outputs": [
        {
          "output_type": "display_data",
          "data": {
            "text/plain": [
              "<Figure size 640x480 with 1 Axes>"
            ],
            "image/png": "[encoded data removed]"
          },
          "metadata": {}
        }
      ]
    },
    {
      "cell_type": "code",
      "source": [
        "# --------------------------------------------\n",
        "# 10) Print summary of features\n",
        "# Sample Output: Final feature count: 25\n",
        "# Best KNN: KNeighborsClassifier(n_neighbors=7, p=2, weights='distance')\n",
        "# --------------------------------------------\n",
        "# TODO: Print the final stats (2 lines of code)\n",
        "print(\"Final feature count:\", X_train_enc.shape[1])\n",
        "print(\"Best KNN:\", grid_search.best_estimator_)\n"
      ],
      "metadata": {
        "id": "mi56r2HVQb78",
        "colab": {
          "base_uri": "https://localhost:8080/"
        },
        "outputId": "dc494c12-b902-4298-947f-b225e573fa84"
      },
      "execution_count": null,
      "outputs": [
        {
          "output_type": "stream",
          "name": "stdout",
          "text": [
            "Final feature count: 126\n",
            "Best KNN: KNeighborsClassifier(n_neighbors=3, p=1, weights='distance')\n"
          ]
        }
      ]
    }
  ]
}